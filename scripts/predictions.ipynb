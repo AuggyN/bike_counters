{
 "cells": [
  {
   "cell_type": "markdown",
   "metadata": {},
   "source": [
    "## Imports"
   ]
  },
  {
   "cell_type": "code",
   "execution_count": 2,
   "metadata": {},
   "outputs": [],
   "source": [
    "import pandas as pd"
   ]
  },
  {
   "cell_type": "markdown",
   "metadata": {},
   "source": [
    "## Loading the datasets"
   ]
  },
  {
   "cell_type": "code",
   "execution_count": 3,
   "metadata": {},
   "outputs": [],
   "source": [
    "training = pd.read_parquet(\"..\\datasets\\\\train.parquet\")\n",
    "test = pd.read_parquet(\"..\\datasets\\\\final_test.parquet\")"
   ]
  },
  {
   "cell_type": "markdown",
   "metadata": {},
   "source": [
    "## Prediction function formatter"
   ]
  },
  {
   "cell_type": "markdown",
   "metadata": {},
   "source": [
    "The following function is used to format the prediction to match what is expected for a kaggle submission."
   ]
  },
  {
   "cell_type": "code",
   "execution_count": 4,
   "metadata": {},
   "outputs": [],
   "source": [
    "def kaggle_prediction(model, file_path, test_set=test):\n",
    "    \"\"\"\n",
    "    Return a .csv file for kaggle submission (predictions of the test dataset)\n",
    "    Parameters:\n",
    "        - model : a fitted sklearn model object\n",
    "        - test_set : the dataset to predict log_bike_count on \n",
    "    Output:\n",
    "        - file.csv : a .csv file to submit to kaggle \n",
    "    \"\"\"\n",
    "\n",
    "    y_pred = model.predict(test_set)\n",
    "    y_pred_df = pd.DataFrame(y_pred, columns=[\"log_bike_count\"])\n",
    "    y_pred_df.index.name = \"Id\"\n",
    "\n",
    "    pd.to_csv(file_path)\n",
    "\n",
    "    return None"
   ]
  }
 ],
 "metadata": {
  "kernelspec": {
   "display_name": "Python_classes-9Axu7pbz",
   "language": "python",
   "name": "python3"
  },
  "language_info": {
   "codemirror_mode": {
    "name": "ipython",
    "version": 3
   },
   "file_extension": ".py",
   "mimetype": "text/x-python",
   "name": "python",
   "nbconvert_exporter": "python",
   "pygments_lexer": "ipython3",
   "version": "3.11.9"
  }
 },
 "nbformat": 4,
 "nbformat_minor": 2
}
